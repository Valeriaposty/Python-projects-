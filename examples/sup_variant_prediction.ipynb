{
  "cells": [
    {
      "cell_type": "markdown",
      "metadata": {
        "id": "byaMhky9dhO1"
      },
      "source": [
        "[![Open In Colab](https://colab.research.google.com/assets/colab-badge.svg)](https://colab.research.google.com/github/facebookresearch/esm/blob/master/examples/variant_prediction.ipynb)"
      ]
    },
    {
      "cell_type": "markdown",
      "metadata": {
        "id": "A-jRjOPCdhO5"
      },
      "source": [
        "# Supervised variant prediction with ESM\n",
        "\n",
        "**Note, this example notebook predates our work on zero-shot variant prediction, which is presented in `examples/variant-prediction`**.\n",
        "\n",
        "This tutorial demonstrates how to train a simple variant predictor, i.e. we predict the biological activity of mutations of a protein, using fixed embeddings from ESM. You can adopt a similar protocol to train a model for any downstream task, even with limited data.\n",
        "\n",
        "We will use a simple classifier in sklearn (or \"head\" on top of the transformer features) to predict the mutation effect from precomputed ESM embeddings. The embeddings for your dataset can be dumped once using a GPU. Then, the rest of your analysis can be done on CPU.\n",
        "\n",
        "### Background\n",
        "\n",
        "In this particular example, we will train a model to predict the activity of ß-lactamase variants.\n",
        "\n",
        "We provide the training in `examples/data/P62593.fasta`, a FASTA file where each entry contains:\n",
        "- the mutated ß-lactamase sequence, where a single residue is mutated (swapped with another amino acid)\n",
        "- the target value in the last field of the header, describing the scaled effect of the mutation\n",
        "\n",
        "The [data originally comes](https://github.com/FowlerLab/Envision2017/blob/master/data/dmsTraining_2017-02-20.csv) from a deep mutational scan and was released with the Envision paper (Gray, et al. 2018)\n",
        "\n",
        "### Goals\n",
        "- Obtain an embedding (fixed-dimensional vector representation) for each mutated sequence.\n",
        "- Train a regression model in sklearn that can predict the \"effect\" score given the embedding.\n",
        "\n",
        "\n",
        "### Prerequisites\n",
        "- You will need the following modules : tqdm, matplotlib, numpy, pandas, seaborn, scipy, scikit-learn\n",
        "- You have obtained sequence embeddings for ß-lactamase as described in the README:\n",
        "```\n",
        "python scripts/extract.py esm1v_t33_650M_UR90S_1 examples/data/P62593.fasta examples/data/P62593_emb_esm1v/ --repr_layers 33 --include mean\n",
        "```\n"
      ]
    },
    {
      "cell_type": "markdown",
      "metadata": {
        "id": "c5o9f__ZdhO6"
      },
      "source": [
        "### Table of Contents\n",
        "1. [Prelims](#prelims)\n",
        "1. [Loading Embeddings](#load_embeddings)\n",
        "1. [Visualizing Embeddings](#viz_embeddings)\n",
        "1. [Initializing / Running Grid Search](#grid_search)\n",
        "1. [Browse Grid Search Results](#browse)\n",
        "1. [Evaluating Results](#eval)"
      ]
    },
    {
      "cell_type": "markdown",
      "metadata": {
        "id": "6YfarFtRdhO7"
      },
      "source": [
        "<a id='prelims'></a>\n",
        "## Prelims"
      ]
    },
    {
      "cell_type": "markdown",
      "metadata": {
        "id": "Vd0EV7sjdhO7"
      },
      "source": [
        "If you are using colab, then uncomment and run the cell below.\n",
        "It will pip install the `esm` code, fetch the fasta file and the pre-computed embeddings."
      ]
    },
    {
      "cell_type": "code",
      "execution_count": 1,
      "metadata": {
        "colab": {
          "base_uri": "https://localhost:8080/"
        },
        "id": "vtxeDGyqdhO8",
        "outputId": "b459efe1-f045-48fe-df27-212287a59d27"
      },
      "outputs": [
        {
          "output_type": "stream",
          "name": "stdout",
          "text": [
            "Collecting git+https://github.com/facebookresearch/esm.git\n",
            "  Cloning https://github.com/facebookresearch/esm.git to /tmp/pip-req-build-5d0ez4kd\n",
            "  Running command git clone --filter=blob:none --quiet https://github.com/facebookresearch/esm.git /tmp/pip-req-build-5d0ez4kd\n",
            "  Resolved https://github.com/facebookresearch/esm.git to commit 2b369911bb5b4b0dda914521b9475cad1656b2ac\n",
            "  Installing build dependencies ... \u001b[?25l\u001b[?25hdone\n",
            "  Getting requirements to build wheel ... \u001b[?25l\u001b[?25hdone\n",
            "  Preparing metadata (pyproject.toml) ... \u001b[?25l\u001b[?25hdone\n",
            "Building wheels for collected packages: fair-esm\n",
            "  Building wheel for fair-esm (pyproject.toml) ... \u001b[?25l\u001b[?25hdone\n",
            "  Created wheel for fair-esm: filename=fair_esm-2.0.1-py3-none-any.whl size=105384 sha256=b85891d624c8ca7d76e841f8de0a04f804639eab05b931cdc006563e0519bd5b\n",
            "  Stored in directory: /tmp/pip-ephem-wheel-cache-idmqmg5z/wheels/f3/b2/ec/4db0b108f6367c7563f99b2445e1137d486003fb2f9bfd2f53\n",
            "Successfully built fair-esm\n",
            "Installing collected packages: fair-esm\n",
            "Successfully installed fair-esm-2.0.1\n",
            "  % Total    % Received % Xferd  Average Speed   Time    Time     Time  Current\n",
            "                                 Dload  Upload   Total   Spent    Left  Speed\n",
            "100 24.5M  100 24.5M    0     0  19.2M      0  0:00:01  0:00:01 --:--:-- 19.2M\n",
            "  % Total    % Received % Xferd  Average Speed   Time    Time     Time  Current\n",
            "                                 Dload  Upload   Total   Spent    Left  Speed\n",
            "100 1719k  100 1719k    0     0  6468k      0 --:--:-- --:--:-- --:--:-- 6490k\n",
            "/content\n",
            "P62593.fasta  P62593_reprs  P62593_reprs.tar.gz  sample_data\n"
          ]
        }
      ],
      "source": [
        "!pip install git+https://github.com/facebookresearch/esm.git\n",
        "!curl -O https://dl.fbaipublicfiles.com/fair-esm/examples/P62593_reprs.tar.gz\n",
        "!tar -xzf P62593_reprs.tar.gz\n",
        "!curl -O https://dl.fbaipublicfiles.com/fair-esm/examples/P62593.fasta\n",
        "!pwd\n",
        "!ls"
      ]
    },
    {
      "cell_type": "code",
      "execution_count": 2,
      "metadata": {
        "id": "g6tGCtEZdhO9"
      },
      "outputs": [],
      "source": [
        "import random\n",
        "from collections import Counter\n",
        "from tqdm import tqdm\n",
        "\n",
        "import torch\n",
        "import matplotlib.pyplot as plt\n",
        "import numpy as np\n",
        "import pandas as pd\n",
        "import seaborn as sns\n",
        "\n",
        "import esm"
      ]
    },
    {
      "cell_type": "code",
      "execution_count": 3,
      "metadata": {
        "id": "vG0WXjqzdhO-"
      },
      "outputs": [],
      "source": [
        "import scipy\n",
        "from sklearn.model_selection import GridSearchCV, train_test_split\n",
        "from sklearn.decomposition import PCA\n",
        "from sklearn.neighbors import KNeighborsClassifier, KNeighborsRegressor\n",
        "from sklearn.svm import SVC, SVR\n",
        "from sklearn.ensemble import RandomForestClassifier, RandomForestRegressor\n",
        "from sklearn.naive_bayes import GaussianNB\n",
        "from sklearn.linear_model import LogisticRegression, SGDRegressor\n",
        "from sklearn.pipeline import Pipeline"
      ]
    },
    {
      "cell_type": "markdown",
      "metadata": {
        "id": "t20jtsyxdhO-"
      },
      "source": [
        "## Add the path to your embeddings here:\n"
      ]
    },
    {
      "cell_type": "code",
      "execution_count": 17,
      "metadata": {
        "id": "8CxAlezddhO_"
      },
      "outputs": [],
      "source": [
        "FASTA_PATH = \"/content/P62593.fasta\" # Path to P62593.fasta\n",
        "EMB_PATH = \"/content/P62593_reprs/\" # Path to directory of embeddings for P62593.fasta\n",
        "EMB_LAYER = 34"
      ]
    },
    {
      "cell_type": "markdown",
      "metadata": {
        "id": "pxchcclJdhPA"
      },
      "source": [
        "<a id='load_embeddings'></a>\n",
        "## Load embeddings (Xs) and target effects (ys)\n",
        "Our FASTA file is formatted as such:\n",
        "```\n",
        ">{index}|{mutation_id}|{effect}\n",
        "{seq}\n",
        "```\n",
        "We will be extracting the effect from each entry.\n",
        "\n",
        "Our embeddings are stored with the file name from fasta header: `{index}|{mutation_id}|{effect}.pt`"
      ]
    },
    {
      "cell_type": "code",
      "execution_count": 18,
      "metadata": {
        "colab": {
          "base_uri": "https://localhost:8080/"
        },
        "id": "ZVppERt6dhPA",
        "outputId": "0c9ec65c-0637-4d20-97a4-b354307c9542"
      },
      "outputs": [
        {
          "output_type": "stream",
          "name": "stdout",
          "text": [
            "5397\n",
            "(5397, 1280)\n"
          ]
        }
      ],
      "source": [
        "ys = []\n",
        "Xs = []\n",
        "for header, _seq in esm.data.read_fasta(FASTA_PATH):\n",
        "    scaled_effect = header.split('|')[-1]\n",
        "    ys.append(float(scaled_effect))\n",
        "    #fn = f'{EMB_PATH}/{header[1:]}.pt'\n",
        "    header_parts = header.split('|')\n",
        "    filename = f\"{header_parts[0]}|{header_parts[1]}|{header_parts[2]}.pt\"\n",
        "    fn = f'{EMB_PATH}/{filename}'\n",
        "    embs = torch.load(fn)\n",
        "    Xs.append(embs['mean_representations'][EMB_LAYER])\n",
        "Xs = torch.stack(Xs, dim=0).numpy()\n",
        "print(len(ys))  #5397\n",
        "print(Xs.shape)  #(5397, 1280)"
      ]
    },
    {
      "cell_type": "markdown",
      "metadata": {
        "id": "SNVaM0kBdhPB"
      },
      "source": [
        "### Train / Test Split\n",
        "\n",
        "Here we choose to follow the Envision paper, using 80% of the data for training, but we actually found that pre-trained ESM embeddings require fewer downstream training examples to reach the same level of performance."
      ]
    },
    {
      "cell_type": "code",
      "execution_count": 19,
      "metadata": {
        "id": "hRUqCtB6dhPB"
      },
      "outputs": [],
      "source": [
        "train_size = 0.8\n",
        "Xs_train, Xs_test, ys_train, ys_test = train_test_split(Xs, ys, train_size=train_size, random_state=42)"
      ]
    },
    {
      "cell_type": "code",
      "execution_count": 20,
      "metadata": {
        "colab": {
          "base_uri": "https://localhost:8080/"
        },
        "id": "VAFS1xtqdhPB",
        "outputId": "0531a1b0-321f-4728-ecfe-81eedd1fbac4"
      },
      "outputs": [
        {
          "output_type": "execute_result",
          "data": {
            "text/plain": [
              "((4317, 1280), (1080, 1280), 4317, 1080)"
            ]
          },
          "metadata": {},
          "execution_count": 20
        }
      ],
      "source": [
        "Xs_train.shape, Xs_test.shape, len(ys_train), len(ys_test)  #((4317, 1280), (1080, 1280), 4317, 1080)"
      ]
    },
    {
      "cell_type": "markdown",
      "metadata": {
        "id": "6IGkAC0YdhPB"
      },
      "source": [
        "### PCA\n",
        "\n",
        "Principal Component Analysis is a popular technique for dimensionality reduction. Given `n_features` (1280 in our case), PCA computes a new set of `X` that \"best explain the data.\" We've found that this enables downstream models to be trained faster with minimal loss in performance.  \n",
        "\n",
        "Here, we set `X` to 60, but feel free to change it!\n"
      ]
    },
    {
      "cell_type": "code",
      "execution_count": 21,
      "metadata": {
        "id": "LQAcCw9pdhPB"
      },
      "outputs": [],
      "source": [
        "num_pca_components = 60\n",
        "pca = PCA(num_pca_components)\n",
        "Xs_train_pca = pca.fit_transform(Xs_train)"
      ]
    },
    {
      "cell_type": "markdown",
      "metadata": {
        "id": "urzGNXRrdhPD"
      },
      "source": [
        "<a id='viz_embeddings'></a>\n",
        "## Visualize Embeddings\n",
        "\n",
        "Here, we plot the first two principal components on the x- and y- axes. Each point is then colored by its scaled effect (what we want to predict).\n",
        "\n",
        "Visually, we can see a separation based on color/effect, suggesting that our representations are useful for this task, without any task-specific training!"
      ]
    },
    {
      "cell_type": "code",
      "execution_count": 22,
      "metadata": {
        "colab": {
          "base_uri": "https://localhost:8080/",
          "height": 559
        },
        "id": "knxuLwpcdhPD",
        "outputId": "0373b608-be6f-43b6-dff5-e2775ecda924"
      },
      "outputs": [
        {
          "output_type": "execute_result",
          "data": {
            "text/plain": [
              "<matplotlib.colorbar.Colorbar at 0x7f9cbbce3d30>"
            ]
          },
          "metadata": {},
          "execution_count": 22
        },
        {
          "output_type": "display_data",
          "data": {
            "text/plain": [
              "<Figure size 700x600 with 2 Axes>"
            ],
            "image/png": "[encoded data removed]"
          },
          "metadata": {}
        }
      ],
      "source": [
        "fig_dims = (7, 6)\n",
        "fig, ax = plt.subplots(figsize=fig_dims)\n",
        "sc = ax.scatter(Xs_train_pca[:,0], Xs_train_pca[:,1], c=ys_train, marker='.')\n",
        "ax.set_xlabel('PCA first principal component')\n",
        "ax.set_ylabel('PCA second principal component')\n",
        "plt.colorbar(sc, label='Variant Effect')"
      ]
    },
    {
      "cell_type": "markdown",
      "metadata": {
        "id": "VRj-3u2BdhPE"
      },
      "source": [
        "<a id='grid_search'></a>\n",
        "\n",
        "## Initialize / Run GridSearch\n",
        "\n",
        "We will run grid search for three different regression models:\n",
        "1. [K-nearest-neighbors](https://scikit-learn.org/stable/modules/generated/sklearn.neighbors.KNeighborsRegressor.html)\n",
        "2. [SVM](https://scikit-learn.org/stable/modules/generated/sklearn.svm.SVR.html?highlight=svr#sklearn.svm.SVR)\n",
        "3. [Random Forest Regressor](https://scikit-learn.org/stable/modules/generated/sklearn.ensemble.RandomForestRegressor.html?highlight=randomforestregressor#sklearn.ensemble.RandomForestRegressor)\n",
        "\n",
        "Here, we will be using the PCA-projected features because we observe it does just as well as `Xs` while allowing for faster training. You can easily swap it out for `Xs`."
      ]
    },
    {
      "cell_type": "markdown",
      "metadata": {
        "id": "IYVNo4kYdhPE"
      },
      "source": [
        "### Initialize grids for different regression techniques"
      ]
    },
    {
      "cell_type": "code",
      "execution_count": 23,
      "metadata": {
        "id": "l7DLTE69dhPE"
      },
      "outputs": [],
      "source": [
        "knn_grid = [\n",
        "    {\n",
        "        'model': [KNeighborsRegressor()],\n",
        "        'model__n_neighbors': [5, 10],\n",
        "        'model__weights': ['uniform', 'distance'],\n",
        "        'model__algorithm': ['ball_tree', 'kd_tree', 'brute'],\n",
        "        'model__leaf_size' : [15, 30],\n",
        "        'model__p' : [1, 2],\n",
        "    }\n",
        "    ]\n",
        "\n",
        "svm_grid = [\n",
        "    {\n",
        "        'model': [SVR()],\n",
        "        'model__C' : [0.1, 1.0, 10.0],\n",
        "        'model__kernel' : ['linear', 'poly', 'rbf', 'sigmoid'],\n",
        "        'model__degree' : [3],\n",
        "        'model__gamma': ['scale'],\n",
        "    }\n",
        "]\n",
        "\n",
        "rfr_grid = [\n",
        "    {\n",
        "        'model': [RandomForestRegressor()],\n",
        "        'model__n_estimators' : [20],\n",
        "        'model__criterion' : ['squared_error', 'absolute_error'],\n",
        "        'model__max_features': ['sqrt', 'log2'],\n",
        "        'model__min_samples_split' : [5, 10],\n",
        "        'model__min_samples_leaf': [1, 4]\n",
        "    }\n",
        "]"
      ]
    },
    {
      "cell_type": "code",
      "execution_count": 24,
      "metadata": {
        "id": "c_miZ1lydhPE"
      },
      "outputs": [],
      "source": [
        "cls_list = [KNeighborsRegressor, SVR, RandomForestRegressor]\n",
        "param_grid_list = [knn_grid, svm_grid, rfr_grid]"
      ]
    },
    {
      "cell_type": "markdown",
      "metadata": {
        "id": "sEfXqnEydhPF"
      },
      "source": [
        "### Run Grid Search\n",
        "\n",
        "(will take a few minutes on a single core)"
      ]
    },
    {
      "cell_type": "code",
      "execution_count": 25,
      "metadata": {
        "colab": {
          "base_uri": "https://localhost:8080/"
        },
        "id": "LtfVu9m2dhPF",
        "outputId": "4643746a-705f-4369-faf6-1b877bc10462"
      },
      "outputs": [
        {
          "output_type": "stream",
          "name": "stdout",
          "text": [
            "<class 'sklearn.neighbors._regression.KNeighborsRegressor'>\n",
            "Fitting 5 folds for each of 48 candidates, totalling 240 fits\n"
          ]
        },
        {
          "output_type": "stream",
          "name": "stderr",
          "text": [
            "/usr/local/lib/python3.10/dist-packages/sklearn/model_selection/_search.py:952: UserWarning: One or more of the test scores are non-finite: [nan nan nan nan nan nan nan nan nan nan nan nan nan nan nan nan nan nan\n",
            " nan nan nan nan nan nan nan nan nan nan nan nan nan nan nan nan nan nan\n",
            " nan nan nan nan nan nan nan nan nan nan nan nan]\n",
            "  warnings.warn(\n"
          ]
        },
        {
          "output_type": "stream",
          "name": "stdout",
          "text": [
            "<class 'sklearn.svm._classes.SVR'>\n",
            "Fitting 5 folds for each of 12 candidates, totalling 60 fits\n"
          ]
        },
        {
          "output_type": "stream",
          "name": "stderr",
          "text": [
            "/usr/local/lib/python3.10/dist-packages/sklearn/model_selection/_search.py:952: UserWarning: One or more of the test scores are non-finite: [nan nan nan nan nan nan nan nan nan nan nan nan]\n",
            "  warnings.warn(\n"
          ]
        },
        {
          "output_type": "stream",
          "name": "stdout",
          "text": [
            "<class 'sklearn.ensemble._forest.RandomForestRegressor'>\n",
            "Fitting 5 folds for each of 16 candidates, totalling 80 fits\n"
          ]
        },
        {
          "output_type": "stream",
          "name": "stderr",
          "text": [
            "/usr/local/lib/python3.10/dist-packages/sklearn/model_selection/_search.py:952: UserWarning: One or more of the test scores are non-finite: [nan nan nan nan nan nan nan nan nan nan nan nan nan nan nan nan]\n",
            "  warnings.warn(\n"
          ]
        }
      ],
      "source": [
        "# make sure data preprocessing (PCA here) is run inside CV to avoid data leakage\n",
        "pipe = Pipeline(\n",
        "    steps = (\n",
        "        ('pca', PCA(num_pca_components)),  # Step 1: Perform PCA\n",
        "        ('model', 'passthrough') # Step 2: The actual model will be determined later, 'passthrough' means no model is set yet\n",
        "    )\n",
        ")\n",
        "# Create empty lists to store the results and grid search objects.\n",
        "result_list = []\n",
        "grid_list = []\n",
        "for cls_name, param_grid in zip(cls_list, param_grid_list):  # Iterate over each classifier name and its corresponding hyperparameter grid in cls_list and param_grid_list, respectively.\n",
        "    print(cls_name)  # Print the name of the current classifier for tracking progress.\n",
        "    grid = GridSearchCV(   # Create a GridSearchCV object to perform hyperparameter tuning for the current classifier.\n",
        "        estimator = pipe,\n",
        "        param_grid = param_grid,\n",
        "        scoring = 'r2',  # Use R-squared as the scoring metric for evaluation\n",
        "        verbose = 1,   # Display progress messages during the grid search process\n",
        "        n_jobs = -1 # use all available cores\n",
        "    )\n",
        "    grid.fit(Xs_train, ys_train)\n",
        "    result_list.append(pd.DataFrame.from_dict(grid.cv_results_))\n",
        "    grid_list.append(grid)"
      ]
    },
    {
      "cell_type": "markdown",
      "metadata": {
        "id": "8hzOFLmgdhPF"
      },
      "source": [
        "<a id='browse'></a>\n",
        "## Browse the Sweep Results\n",
        "\n",
        "The following tables show the top 5 parameter settings, based on `mean_test_score`. Given our setup, this should really be thought of as `validation_score`."
      ]
    },
    {
      "cell_type": "markdown",
      "metadata": {
        "id": "0_Jz7PkBdhPF"
      },
      "source": [
        "### K Nearest Neighbors"
      ]
    },
    {
      "cell_type": "code",
      "execution_count": null,
      "metadata": {
        "id": "WU7VmmSrdhPF",
        "outputId": "939c1114-ea55-4b9a-ca5c-236f101ab9ca"
      },
      "outputs": [
        {
          "data": {
            "text/html": [
              "<div>\n",
              "<style scoped>\n",
              "    .dataframe tbody tr th:only-of-type {\n",
              "        vertical-align: middle;\n",
              "    }\n",
              "\n",
              "    .dataframe tbody tr th {\n",
              "        vertical-align: top;\n",
              "    }\n",
              "\n",
              "    .dataframe thead th {\n",
              "        text-align: right;\n",
              "    }\n",
              "</style>\n",
              "<table border=\"1\" class=\"dataframe\">\n",
              "  <thead>\n",
              "    <tr style=\"text-align: right;\">\n",
              "      <th></th>\n",
              "      <th>mean_fit_time</th>\n",
              "      <th>std_fit_time</th>\n",
              "      <th>mean_score_time</th>\n",
              "      <th>std_score_time</th>\n",
              "      <th>param_model</th>\n",
              "      <th>param_model__algorithm</th>\n",
              "      <th>param_model__leaf_size</th>\n",
              "      <th>param_model__n_neighbors</th>\n",
              "      <th>param_model__p</th>\n",
              "      <th>param_model__weights</th>\n",
              "      <th>params</th>\n",
              "      <th>split0_test_score</th>\n",
              "      <th>split1_test_score</th>\n",
              "      <th>split2_test_score</th>\n",
              "      <th>split3_test_score</th>\n",
              "      <th>split4_test_score</th>\n",
              "      <th>mean_test_score</th>\n",
              "      <th>std_test_score</th>\n",
              "      <th>rank_test_score</th>\n",
              "    </tr>\n",
              "  </thead>\n",
              "  <tbody>\n",
              "    <tr>\n",
              "      <th>9</th>\n",
              "      <td>1.861867</td>\n",
              "      <td>0.283238</td>\n",
              "      <td>0.816056</td>\n",
              "      <td>0.063010</td>\n",
              "      <td>KNeighborsRegressor(algorithm='ball_tree', p=1...</td>\n",
              "      <td>ball_tree</td>\n",
              "      <td>30</td>\n",
              "      <td>5</td>\n",
              "      <td>1</td>\n",
              "      <td>distance</td>\n",
              "      <td>{'model': KNeighborsRegressor(algorithm='ball_...</td>\n",
              "      <td>0.695010</td>\n",
              "      <td>0.705608</td>\n",
              "      <td>0.657999</td>\n",
              "      <td>0.644695</td>\n",
              "      <td>0.665164</td>\n",
              "      <td>0.673695</td>\n",
              "      <td>0.022947</td>\n",
              "      <td>1</td>\n",
              "    </tr>\n",
              "    <tr>\n",
              "      <th>1</th>\n",
              "      <td>1.765102</td>\n",
              "      <td>0.207029</td>\n",
              "      <td>0.689800</td>\n",
              "      <td>0.216780</td>\n",
              "      <td>KNeighborsRegressor(algorithm='ball_tree', p=1...</td>\n",
              "      <td>ball_tree</td>\n",
              "      <td>15</td>\n",
              "      <td>5</td>\n",
              "      <td>1</td>\n",
              "      <td>distance</td>\n",
              "      <td>{'model': KNeighborsRegressor(algorithm='ball_...</td>\n",
              "      <td>0.690265</td>\n",
              "      <td>0.701557</td>\n",
              "      <td>0.661057</td>\n",
              "      <td>0.649508</td>\n",
              "      <td>0.665427</td>\n",
              "      <td>0.673563</td>\n",
              "      <td>0.019307</td>\n",
              "      <td>2</td>\n",
              "    </tr>\n",
              "    <tr>\n",
              "      <th>17</th>\n",
              "      <td>0.589193</td>\n",
              "      <td>0.099892</td>\n",
              "      <td>1.422166</td>\n",
              "      <td>0.152255</td>\n",
              "      <td>KNeighborsRegressor(algorithm='ball_tree', p=1...</td>\n",
              "      <td>kd_tree</td>\n",
              "      <td>15</td>\n",
              "      <td>5</td>\n",
              "      <td>1</td>\n",
              "      <td>distance</td>\n",
              "      <td>{'model': KNeighborsRegressor(algorithm='ball_...</td>\n",
              "      <td>0.693205</td>\n",
              "      <td>0.700961</td>\n",
              "      <td>0.663998</td>\n",
              "      <td>0.648063</td>\n",
              "      <td>0.659884</td>\n",
              "      <td>0.673222</td>\n",
              "      <td>0.020321</td>\n",
              "      <td>3</td>\n",
              "    </tr>\n",
              "    <tr>\n",
              "      <th>33</th>\n",
              "      <td>1.284200</td>\n",
              "      <td>0.496219</td>\n",
              "      <td>1.202915</td>\n",
              "      <td>0.300557</td>\n",
              "      <td>KNeighborsRegressor(algorithm='ball_tree', p=1...</td>\n",
              "      <td>brute</td>\n",
              "      <td>15</td>\n",
              "      <td>5</td>\n",
              "      <td>1</td>\n",
              "      <td>distance</td>\n",
              "      <td>{'model': KNeighborsRegressor(algorithm='ball_...</td>\n",
              "      <td>0.692801</td>\n",
              "      <td>0.698600</td>\n",
              "      <td>0.661247</td>\n",
              "      <td>0.649249</td>\n",
              "      <td>0.660964</td>\n",
              "      <td>0.672572</td>\n",
              "      <td>0.019461</td>\n",
              "      <td>4</td>\n",
              "    </tr>\n",
              "    <tr>\n",
              "      <th>41</th>\n",
              "      <td>1.363155</td>\n",
              "      <td>0.416416</td>\n",
              "      <td>0.370380</td>\n",
              "      <td>0.174864</td>\n",
              "      <td>KNeighborsRegressor(algorithm='ball_tree', p=1...</td>\n",
              "      <td>brute</td>\n",
              "      <td>30</td>\n",
              "      <td>5</td>\n",
              "      <td>1</td>\n",
              "      <td>distance</td>\n",
              "      <td>{'model': KNeighborsRegressor(algorithm='ball_...</td>\n",
              "      <td>0.695918</td>\n",
              "      <td>0.701295</td>\n",
              "      <td>0.655434</td>\n",
              "      <td>0.641803</td>\n",
              "      <td>0.661102</td>\n",
              "      <td>0.671110</td>\n",
              "      <td>0.023372</td>\n",
              "      <td>5</td>\n",
              "    </tr>\n",
              "  </tbody>\n",
              "</table>\n",
              "</div>"
            ],
            "text/plain": [
              "    mean_fit_time  std_fit_time  mean_score_time  std_score_time  \\\n",
              "9        1.861867      0.283238         0.816056        0.063010   \n",
              "1        1.765102      0.207029         0.689800        0.216780   \n",
              "17       0.589193      0.099892         1.422166        0.152255   \n",
              "33       1.284200      0.496219         1.202915        0.300557   \n",
              "41       1.363155      0.416416         0.370380        0.174864   \n",
              "\n",
              "                                          param_model param_model__algorithm  \\\n",
              "9   KNeighborsRegressor(algorithm='ball_tree', p=1...              ball_tree   \n",
              "1   KNeighborsRegressor(algorithm='ball_tree', p=1...              ball_tree   \n",
              "17  KNeighborsRegressor(algorithm='ball_tree', p=1...                kd_tree   \n",
              "33  KNeighborsRegressor(algorithm='ball_tree', p=1...                  brute   \n",
              "41  KNeighborsRegressor(algorithm='ball_tree', p=1...                  brute   \n",
              "\n",
              "   param_model__leaf_size param_model__n_neighbors param_model__p  \\\n",
              "9                      30                        5              1   \n",
              "1                      15                        5              1   \n",
              "17                     15                        5              1   \n",
              "33                     15                        5              1   \n",
              "41                     30                        5              1   \n",
              "\n",
              "   param_model__weights                                             params  \\\n",
              "9              distance  {'model': KNeighborsRegressor(algorithm='ball_...   \n",
              "1              distance  {'model': KNeighborsRegressor(algorithm='ball_...   \n",
              "17             distance  {'model': KNeighborsRegressor(algorithm='ball_...   \n",
              "33             distance  {'model': KNeighborsRegressor(algorithm='ball_...   \n",
              "41             distance  {'model': KNeighborsRegressor(algorithm='ball_...   \n",
              "\n",
              "    split0_test_score  split1_test_score  split2_test_score  \\\n",
              "9            0.695010           0.705608           0.657999   \n",
              "1            0.690265           0.701557           0.661057   \n",
              "17           0.693205           0.700961           0.663998   \n",
              "33           0.692801           0.698600           0.661247   \n",
              "41           0.695918           0.701295           0.655434   \n",
              "\n",
              "    split3_test_score  split4_test_score  mean_test_score  std_test_score  \\\n",
              "9            0.644695           0.665164         0.673695        0.022947   \n",
              "1            0.649508           0.665427         0.673563        0.019307   \n",
              "17           0.648063           0.659884         0.673222        0.020321   \n",
              "33           0.649249           0.660964         0.672572        0.019461   \n",
              "41           0.641803           0.661102         0.671110        0.023372   \n",
              "\n",
              "    rank_test_score  \n",
              "9                 1  \n",
              "1                 2  \n",
              "17                3  \n",
              "33                4  \n",
              "41                5  "
            ]
          },
          "execution_count": 15,
          "metadata": {},
          "output_type": "execute_result"
        }
      ],
      "source": [
        "result_list[0].sort_values('rank_test_score')[:5]"
      ]
    },
    {
      "cell_type": "markdown",
      "metadata": {
        "id": "WrtRIeAwdhPF"
      },
      "source": [
        "### SVM"
      ]
    },
    {
      "cell_type": "code",
      "execution_count": null,
      "metadata": {
        "id": "64Qs-MKfdhPG",
        "outputId": "170071cf-458d-4da1-ae9a-d073b0e84476"
      },
      "outputs": [
        {
          "data": {
            "text/html": [
              "<div>\n",
              "<style scoped>\n",
              "    .dataframe tbody tr th:only-of-type {\n",
              "        vertical-align: middle;\n",
              "    }\n",
              "\n",
              "    .dataframe tbody tr th {\n",
              "        vertical-align: top;\n",
              "    }\n",
              "\n",
              "    .dataframe thead th {\n",
              "        text-align: right;\n",
              "    }\n",
              "</style>\n",
              "<table border=\"1\" class=\"dataframe\">\n",
              "  <thead>\n",
              "    <tr style=\"text-align: right;\">\n",
              "      <th></th>\n",
              "      <th>mean_fit_time</th>\n",
              "      <th>std_fit_time</th>\n",
              "      <th>mean_score_time</th>\n",
              "      <th>std_score_time</th>\n",
              "      <th>param_model</th>\n",
              "      <th>param_model__C</th>\n",
              "      <th>param_model__degree</th>\n",
              "      <th>param_model__gamma</th>\n",
              "      <th>param_model__kernel</th>\n",
              "      <th>params</th>\n",
              "      <th>split0_test_score</th>\n",
              "      <th>split1_test_score</th>\n",
              "      <th>split2_test_score</th>\n",
              "      <th>split3_test_score</th>\n",
              "      <th>split4_test_score</th>\n",
              "      <th>mean_test_score</th>\n",
              "      <th>std_test_score</th>\n",
              "      <th>rank_test_score</th>\n",
              "    </tr>\n",
              "  </thead>\n",
              "  <tbody>\n",
              "    <tr>\n",
              "      <th>6</th>\n",
              "      <td>1.596057</td>\n",
              "      <td>0.374811</td>\n",
              "      <td>0.187232</td>\n",
              "      <td>0.012077</td>\n",
              "      <td>SVR()</td>\n",
              "      <td>1.0</td>\n",
              "      <td>3</td>\n",
              "      <td>scale</td>\n",
              "      <td>rbf</td>\n",
              "      <td>{'model': SVR(), 'model__C': 1.0, 'model__degr...</td>\n",
              "      <td>0.737071</td>\n",
              "      <td>0.726406</td>\n",
              "      <td>0.678442</td>\n",
              "      <td>0.702208</td>\n",
              "      <td>0.689338</td>\n",
              "      <td>0.706693</td>\n",
              "      <td>0.022049</td>\n",
              "      <td>1</td>\n",
              "    </tr>\n",
              "    <tr>\n",
              "      <th>10</th>\n",
              "      <td>2.030772</td>\n",
              "      <td>0.278808</td>\n",
              "      <td>0.183248</td>\n",
              "      <td>0.008195</td>\n",
              "      <td>SVR()</td>\n",
              "      <td>10.0</td>\n",
              "      <td>3</td>\n",
              "      <td>scale</td>\n",
              "      <td>rbf</td>\n",
              "      <td>{'model': SVR(), 'model__C': 10.0, 'model__deg...</td>\n",
              "      <td>0.701482</td>\n",
              "      <td>0.713377</td>\n",
              "      <td>0.671624</td>\n",
              "      <td>0.691004</td>\n",
              "      <td>0.681054</td>\n",
              "      <td>0.691708</td>\n",
              "      <td>0.014714</td>\n",
              "      <td>2</td>\n",
              "    </tr>\n",
              "    <tr>\n",
              "      <th>2</th>\n",
              "      <td>1.559752</td>\n",
              "      <td>0.208916</td>\n",
              "      <td>0.218885</td>\n",
              "      <td>0.045596</td>\n",
              "      <td>SVR()</td>\n",
              "      <td>0.1</td>\n",
              "      <td>3</td>\n",
              "      <td>scale</td>\n",
              "      <td>rbf</td>\n",
              "      <td>{'model': SVR(), 'model__C': 0.1, 'model__degr...</td>\n",
              "      <td>0.643568</td>\n",
              "      <td>0.621554</td>\n",
              "      <td>0.574986</td>\n",
              "      <td>0.610664</td>\n",
              "      <td>0.578071</td>\n",
              "      <td>0.605769</td>\n",
              "      <td>0.026141</td>\n",
              "      <td>3</td>\n",
              "    </tr>\n",
              "    <tr>\n",
              "      <th>5</th>\n",
              "      <td>2.062963</td>\n",
              "      <td>0.209779</td>\n",
              "      <td>0.078716</td>\n",
              "      <td>0.004191</td>\n",
              "      <td>SVR()</td>\n",
              "      <td>1.0</td>\n",
              "      <td>3</td>\n",
              "      <td>scale</td>\n",
              "      <td>poly</td>\n",
              "      <td>{'model': SVR(), 'model__C': 1.0, 'model__degr...</td>\n",
              "      <td>0.523832</td>\n",
              "      <td>0.425124</td>\n",
              "      <td>0.448338</td>\n",
              "      <td>0.476281</td>\n",
              "      <td>0.418398</td>\n",
              "      <td>0.458395</td>\n",
              "      <td>0.038496</td>\n",
              "      <td>4</td>\n",
              "    </tr>\n",
              "    <tr>\n",
              "      <th>8</th>\n",
              "      <td>1.457202</td>\n",
              "      <td>0.369496</td>\n",
              "      <td>0.079903</td>\n",
              "      <td>0.004191</td>\n",
              "      <td>SVR()</td>\n",
              "      <td>10.0</td>\n",
              "      <td>3</td>\n",
              "      <td>scale</td>\n",
              "      <td>linear</td>\n",
              "      <td>{'model': SVR(), 'model__C': 10.0, 'model__deg...</td>\n",
              "      <td>0.484858</td>\n",
              "      <td>0.446688</td>\n",
              "      <td>0.434547</td>\n",
              "      <td>0.442608</td>\n",
              "      <td>0.432603</td>\n",
              "      <td>0.448261</td>\n",
              "      <td>0.019011</td>\n",
              "      <td>5</td>\n",
              "    </tr>\n",
              "  </tbody>\n",
              "</table>\n",
              "</div>"
            ],
            "text/plain": [
              "    mean_fit_time  std_fit_time  mean_score_time  std_score_time param_model  \\\n",
              "6        1.596057      0.374811         0.187232        0.012077       SVR()   \n",
              "10       2.030772      0.278808         0.183248        0.008195       SVR()   \n",
              "2        1.559752      0.208916         0.218885        0.045596       SVR()   \n",
              "5        2.062963      0.209779         0.078716        0.004191       SVR()   \n",
              "8        1.457202      0.369496         0.079903        0.004191       SVR()   \n",
              "\n",
              "   param_model__C param_model__degree param_model__gamma param_model__kernel  \\\n",
              "6             1.0                   3              scale                 rbf   \n",
              "10           10.0                   3              scale                 rbf   \n",
              "2             0.1                   3              scale                 rbf   \n",
              "5             1.0                   3              scale                poly   \n",
              "8            10.0                   3              scale              linear   \n",
              "\n",
              "                                               params  split0_test_score  \\\n",
              "6   {'model': SVR(), 'model__C': 1.0, 'model__degr...           0.737071   \n",
              "10  {'model': SVR(), 'model__C': 10.0, 'model__deg...           0.701482   \n",
              "2   {'model': SVR(), 'model__C': 0.1, 'model__degr...           0.643568   \n",
              "5   {'model': SVR(), 'model__C': 1.0, 'model__degr...           0.523832   \n",
              "8   {'model': SVR(), 'model__C': 10.0, 'model__deg...           0.484858   \n",
              "\n",
              "    split1_test_score  split2_test_score  split3_test_score  \\\n",
              "6            0.726406           0.678442           0.702208   \n",
              "10           0.713377           0.671624           0.691004   \n",
              "2            0.621554           0.574986           0.610664   \n",
              "5            0.425124           0.448338           0.476281   \n",
              "8            0.446688           0.434547           0.442608   \n",
              "\n",
              "    split4_test_score  mean_test_score  std_test_score  rank_test_score  \n",
              "6            0.689338         0.706693        0.022049                1  \n",
              "10           0.681054         0.691708        0.014714                2  \n",
              "2            0.578071         0.605769        0.026141                3  \n",
              "5            0.418398         0.458395        0.038496                4  \n",
              "8            0.432603         0.448261        0.019011                5  "
            ]
          },
          "execution_count": 16,
          "metadata": {},
          "output_type": "execute_result"
        }
      ],
      "source": [
        "result_list[1].sort_values('rank_test_score')[:5]"
      ]
    },
    {
      "cell_type": "markdown",
      "metadata": {
        "id": "5OPuLF0bdhPG"
      },
      "source": [
        "### Random Forest"
      ]
    },
    {
      "cell_type": "code",
      "execution_count": null,
      "metadata": {
        "id": "XbjWn5yYdhPG",
        "outputId": "ae7a47b8-dec9-4ba3-9e47-0288f0c7cf16"
      },
      "outputs": [
        {
          "data": {
            "text/html": [
              "<div>\n",
              "<style scoped>\n",
              "    .dataframe tbody tr th:only-of-type {\n",
              "        vertical-align: middle;\n",
              "    }\n",
              "\n",
              "    .dataframe tbody tr th {\n",
              "        vertical-align: top;\n",
              "    }\n",
              "\n",
              "    .dataframe thead th {\n",
              "        text-align: right;\n",
              "    }\n",
              "</style>\n",
              "<table border=\"1\" class=\"dataframe\">\n",
              "  <thead>\n",
              "    <tr style=\"text-align: right;\">\n",
              "      <th></th>\n",
              "      <th>mean_fit_time</th>\n",
              "      <th>std_fit_time</th>\n",
              "      <th>mean_score_time</th>\n",
              "      <th>std_score_time</th>\n",
              "      <th>param_model</th>\n",
              "      <th>param_model__criterion</th>\n",
              "      <th>param_model__max_features</th>\n",
              "      <th>param_model__min_samples_leaf</th>\n",
              "      <th>param_model__min_samples_split</th>\n",
              "      <th>param_model__n_estimators</th>\n",
              "      <th>params</th>\n",
              "      <th>split0_test_score</th>\n",
              "      <th>split1_test_score</th>\n",
              "      <th>split2_test_score</th>\n",
              "      <th>split3_test_score</th>\n",
              "      <th>split4_test_score</th>\n",
              "      <th>mean_test_score</th>\n",
              "      <th>std_test_score</th>\n",
              "      <th>rank_test_score</th>\n",
              "    </tr>\n",
              "  </thead>\n",
              "  <tbody>\n",
              "    <tr>\n",
              "      <th>4</th>\n",
              "      <td>1.185552</td>\n",
              "      <td>0.132015</td>\n",
              "      <td>0.015165</td>\n",
              "      <td>0.000395</td>\n",
              "      <td>RandomForestRegressor(max_features='log2', min...</td>\n",
              "      <td>squared_error</td>\n",
              "      <td>log2</td>\n",
              "      <td>1</td>\n",
              "      <td>5</td>\n",
              "      <td>20</td>\n",
              "      <td>{'model': RandomForestRegressor(max_features='...</td>\n",
              "      <td>0.533933</td>\n",
              "      <td>0.530109</td>\n",
              "      <td>0.503419</td>\n",
              "      <td>0.519353</td>\n",
              "      <td>0.467033</td>\n",
              "      <td>0.510769</td>\n",
              "      <td>0.024295</td>\n",
              "      <td>1</td>\n",
              "    </tr>\n",
              "    <tr>\n",
              "      <th>1</th>\n",
              "      <td>1.334341</td>\n",
              "      <td>0.110625</td>\n",
              "      <td>0.012710</td>\n",
              "      <td>0.001579</td>\n",
              "      <td>RandomForestRegressor(max_features='log2', min...</td>\n",
              "      <td>squared_error</td>\n",
              "      <td>sqrt</td>\n",
              "      <td>1</td>\n",
              "      <td>10</td>\n",
              "      <td>20</td>\n",
              "      <td>{'model': RandomForestRegressor(max_features='...</td>\n",
              "      <td>0.539230</td>\n",
              "      <td>0.510809</td>\n",
              "      <td>0.481912</td>\n",
              "      <td>0.528806</td>\n",
              "      <td>0.479765</td>\n",
              "      <td>0.508105</td>\n",
              "      <td>0.024058</td>\n",
              "      <td>2</td>\n",
              "    </tr>\n",
              "    <tr>\n",
              "      <th>0</th>\n",
              "      <td>1.445742</td>\n",
              "      <td>0.118084</td>\n",
              "      <td>0.013353</td>\n",
              "      <td>0.001643</td>\n",
              "      <td>RandomForestRegressor(max_features='log2', min...</td>\n",
              "      <td>squared_error</td>\n",
              "      <td>sqrt</td>\n",
              "      <td>1</td>\n",
              "      <td>5</td>\n",
              "      <td>20</td>\n",
              "      <td>{'model': RandomForestRegressor(max_features='...</td>\n",
              "      <td>0.530501</td>\n",
              "      <td>0.514021</td>\n",
              "      <td>0.491199</td>\n",
              "      <td>0.516743</td>\n",
              "      <td>0.487662</td>\n",
              "      <td>0.508025</td>\n",
              "      <td>0.016217</td>\n",
              "      <td>3</td>\n",
              "    </tr>\n",
              "    <tr>\n",
              "      <th>2</th>\n",
              "      <td>1.495729</td>\n",
              "      <td>0.124626</td>\n",
              "      <td>0.010826</td>\n",
              "      <td>0.000706</td>\n",
              "      <td>RandomForestRegressor(max_features='log2', min...</td>\n",
              "      <td>squared_error</td>\n",
              "      <td>sqrt</td>\n",
              "      <td>4</td>\n",
              "      <td>5</td>\n",
              "      <td>20</td>\n",
              "      <td>{'model': RandomForestRegressor(max_features='...</td>\n",
              "      <td>0.514546</td>\n",
              "      <td>0.533379</td>\n",
              "      <td>0.479104</td>\n",
              "      <td>0.518605</td>\n",
              "      <td>0.459918</td>\n",
              "      <td>0.501110</td>\n",
              "      <td>0.027236</td>\n",
              "      <td>4</td>\n",
              "    </tr>\n",
              "    <tr>\n",
              "      <th>8</th>\n",
              "      <td>12.151597</td>\n",
              "      <td>1.092783</td>\n",
              "      <td>0.010862</td>\n",
              "      <td>0.001263</td>\n",
              "      <td>RandomForestRegressor(max_features='log2', min...</td>\n",
              "      <td>absolute_error</td>\n",
              "      <td>sqrt</td>\n",
              "      <td>1</td>\n",
              "      <td>5</td>\n",
              "      <td>20</td>\n",
              "      <td>{'model': RandomForestRegressor(max_features='...</td>\n",
              "      <td>0.505719</td>\n",
              "      <td>0.502644</td>\n",
              "      <td>0.470106</td>\n",
              "      <td>0.511916</td>\n",
              "      <td>0.468395</td>\n",
              "      <td>0.491756</td>\n",
              "      <td>0.018625</td>\n",
              "      <td>5</td>\n",
              "    </tr>\n",
              "  </tbody>\n",
              "</table>\n",
              "</div>"
            ],
            "text/plain": [
              "   mean_fit_time  std_fit_time  mean_score_time  std_score_time  \\\n",
              "4       1.185552      0.132015         0.015165        0.000395   \n",
              "1       1.334341      0.110625         0.012710        0.001579   \n",
              "0       1.445742      0.118084         0.013353        0.001643   \n",
              "2       1.495729      0.124626         0.010826        0.000706   \n",
              "8      12.151597      1.092783         0.010862        0.001263   \n",
              "\n",
              "                                         param_model param_model__criterion  \\\n",
              "4  RandomForestRegressor(max_features='log2', min...          squared_error   \n",
              "1  RandomForestRegressor(max_features='log2', min...          squared_error   \n",
              "0  RandomForestRegressor(max_features='log2', min...          squared_error   \n",
              "2  RandomForestRegressor(max_features='log2', min...          squared_error   \n",
              "8  RandomForestRegressor(max_features='log2', min...         absolute_error   \n",
              "\n",
              "  param_model__max_features param_model__min_samples_leaf  \\\n",
              "4                      log2                             1   \n",
              "1                      sqrt                             1   \n",
              "0                      sqrt                             1   \n",
              "2                      sqrt                             4   \n",
              "8                      sqrt                             1   \n",
              "\n",
              "  param_model__min_samples_split param_model__n_estimators  \\\n",
              "4                              5                        20   \n",
              "1                             10                        20   \n",
              "0                              5                        20   \n",
              "2                              5                        20   \n",
              "8                              5                        20   \n",
              "\n",
              "                                              params  split0_test_score  \\\n",
              "4  {'model': RandomForestRegressor(max_features='...           0.533933   \n",
              "1  {'model': RandomForestRegressor(max_features='...           0.539230   \n",
              "0  {'model': RandomForestRegressor(max_features='...           0.530501   \n",
              "2  {'model': RandomForestRegressor(max_features='...           0.514546   \n",
              "8  {'model': RandomForestRegressor(max_features='...           0.505719   \n",
              "\n",
              "   split1_test_score  split2_test_score  split3_test_score  split4_test_score  \\\n",
              "4           0.530109           0.503419           0.519353           0.467033   \n",
              "1           0.510809           0.481912           0.528806           0.479765   \n",
              "0           0.514021           0.491199           0.516743           0.487662   \n",
              "2           0.533379           0.479104           0.518605           0.459918   \n",
              "8           0.502644           0.470106           0.511916           0.468395   \n",
              "\n",
              "   mean_test_score  std_test_score  rank_test_score  \n",
              "4         0.510769        0.024295                1  \n",
              "1         0.508105        0.024058                2  \n",
              "0         0.508025        0.016217                3  \n",
              "2         0.501110        0.027236                4  \n",
              "8         0.491756        0.018625                5  "
            ]
          },
          "execution_count": 17,
          "metadata": {},
          "output_type": "execute_result"
        }
      ],
      "source": [
        "result_list[2].sort_values('rank_test_score')[:5]"
      ]
    },
    {
      "cell_type": "markdown",
      "metadata": {
        "id": "zrafDE9ZdhPG"
      },
      "source": [
        "<a id='eval'></a>\n",
        "## Evaluation\n",
        "\n",
        "Now that we have run grid search, each `grid` object contains a `best_estimator_`.\n",
        "\n",
        "We can use this to evaluate the correlation between our predictions and the true effect scores on the held-out validation set."
      ]
    },
    {
      "cell_type": "code",
      "execution_count": null,
      "metadata": {
        "id": "3u6tthNWdhPG",
        "outputId": "50595d86-9557-4e3d-cc26-b1e88d2fab56"
      },
      "outputs": [
        {
          "name": "stdout",
          "output_type": "stream",
          "text": [
            "KNeighborsRegressor(algorithm='ball_tree', p=1, weights='distance')\n",
            "\n",
            "SpearmanrResult(correlation=0.8065398315270731, pvalue=2.4681127050485095e-248)\n",
            "\n",
            " -------------------------------------------------------------------------------- \n",
            "\n",
            "SVR()\n",
            "\n",
            "SpearmanrResult(correlation=0.8147793655720186, pvalue=1.8403540985305893e-257)\n",
            "\n",
            " -------------------------------------------------------------------------------- \n",
            "\n",
            "RandomForestRegressor(max_features='log2', min_samples_split=5, n_estimators=20)\n",
            "\n",
            "SpearmanrResult(correlation=0.7277072328713822, pvalue=1.0094601306397444e-178)\n",
            "\n",
            " -------------------------------------------------------------------------------- \n",
            "\n"
          ]
        }
      ],
      "source": [
        "for grid in grid_list:\n",
        "    print(grid.best_estimator_.get_params()[\"steps\"][1][1]) # get the model details from the estimator\n",
        "    print()\n",
        "    preds = grid.predict(Xs_test)\n",
        "    print(f'{scipy.stats.spearmanr(ys_test, preds)}')\n",
        "    print('\\n', '-' * 80, '\\n')\n"
      ]
    },
    {
      "cell_type": "markdown",
      "metadata": {
        "id": "oOagw_z0dhPG"
      },
      "source": [
        "The SVM performs the best on the `test` set, with a spearman rho of 0.815!\n",
        "\n",
        "This is in line with our grid-search results, where it also had the best `validation` performance.\n",
        "\n",
        "In conclusion, our downstream model was able to use fixed pre-trained ESM embedding representations and obtain a decent result.\n",
        "\n",
        "For reference, we report correlation of 0.89 in Table 7 of [Rives et al.](https://www.biorxiv.org/content/10.1101/622803v3), but this was achieved by fine-tuning the model, and with ESM-1, before we developed ESM-1v."
      ]
    },
    {
      "cell_type": "markdown",
      "metadata": {
        "id": "ysay8wYzdhPH"
      },
      "source": [
        "**For zero-shot variant prediction, see `examples/variant-prediction`**"
      ]
    },
    {
      "cell_type": "code",
      "execution_count": null,
      "metadata": {
        "id": "eH__y-FHdhPH"
      },
      "outputs": [],
      "source": []
    }
  ],
  "metadata": {
    "kernelspec": {
      "display_name": "Python 3 (ipykernel)",
      "language": "python",
      "name": "python3"
    },
    "language_info": {
      "codemirror_mode": {
        "name": "ipython",
        "version": 3
      },
      "file_extension": ".py",
      "mimetype": "text/x-python",
      "name": "python",
      "nbconvert_exporter": "python",
      "pygments_lexer": "ipython3",
      "version": "3.8.12"
    },
    "colab": {
      "provenance": []
    }
  },
  "nbformat": 4,
  "nbformat_minor": 0
}