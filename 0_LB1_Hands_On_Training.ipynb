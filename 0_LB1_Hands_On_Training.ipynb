{
  "nbformat": 4,
  "nbformat_minor": 0,
  "metadata": {
    "colab": {
      "provenance": [],
      "include_colab_link": true
    },
    "kernelspec": {
      "name": "python3",
      "display_name": "Python 3"
    }
  },
  "cells": [
    {
      "cell_type": "markdown",
      "metadata": {
        "id": "view-in-github",
        "colab_type": "text"
      },
      "source": [
        "<a href=\"https://colab.research.google.com/github/Valeriaposty/Python-projects-/blob/main/0_LB1_Hands_On_Training.ipynb\" target=\"_parent\"><img src=\"https://colab.research.google.com/assets/colab-badge.svg\" alt=\"Open In Colab\"/></a>"
      ]
    },
    {
      "cell_type": "markdown",
      "metadata": {
        "id": "zTkYD27oBlDd"
      },
      "source": [
        "#**Hand-On Training - Laboratory of Bioinformatics 1 (66563)**\n",
        "\n",
        "In this page are listed the links to the main exercises solved during the second module of the course Laboratory of Bioinformatics I.\n",
        "For writing and executing the programs, especially on a Windows machine, it is suggeted to install a Linux Virtual Machine. The instructions are included [here](https://colab.research.google.com/drive/1Ef6-YVvWzvBf9EUCARMyrvcgW6HqBu1v?authuser=3#scrollTo=Vnb1Tdtxy11z).\n",
        "\n",
        "\n",
        "Below are reported the links to the exercises:\n",
        "\n",
        "\n"
      ]
    },
    {
      "cell_type": "markdown",
      "metadata": {
        "id": "MzrWKfvZ8zVb"
      },
      "source": [
        "1.   [Protein Structure Superimposition](https://colab.research.google.com/drive/1gS4-2aT2A3MwPP3M51DxMgKFWlBWP7xz)\n",
        "2.   [Protein Sequence Alignment Analysis](https://colab.research.google.com/drive/19OM3NgcbzAQssfRREk8AyqARORGOW5v8)\n",
        "3.   [Probabilistic Models](https://colab.research.google.com/drive/1qw98_5Zts2WHreoQ8m8JbegyvXBtWXF2?usp=sharing)\n",
        "4.   [CpG Island Hidden Markov Model](https://colab.research.google.com/drive/1LsWVBJu-kKitXxTnopT_lGiiRC6gB343?usp=sharing)\n",
        "5.   [BLAST-based Annotation](https://colab.research.google.com/drive/1-87aCinND06BuuIUK8XTBM3l7n0vMDoE)\n",
        "6.   [Project Workflow](https://colab.research.google.com/drive/1QvcAh8Ha6iVCZGIfpom_JVhkpsPFAxyg)\n",
        "7.   Secondary Structure Propensity\n",
        "8.   DSSP Data Analysis"
      ]
    }
  ]
}